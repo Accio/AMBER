{
 "cells": [
  {
   "cell_type": "markdown",
   "metadata": {},
   "source": [
    "# Application of trained ZS-AMBER to a new task\n",
    "\n",
    "## Reload a trained ZS-AMBER"
   ]
  },
  {
   "cell_type": "code",
   "execution_count": 1,
   "metadata": {},
   "outputs": [
    {
     "name": "stdout",
     "output_type": "stream",
     "text": [
      "/mnt/home/zzhang/workspace/src/AMBER-ZeroShot/examples\n"
     ]
    },
    {
     "name": "stderr",
     "output_type": "stream",
     "text": [
      "Using TensorFlow backend.\n"
     ]
    }
   ],
   "source": [
    "%cd /mnt/home/zzhang/workspace/src/AMBER-ZeroShot/examples\n",
    "%run zero_shot_nas.real_deepsea.py"
   ]
  },
  {
   "cell_type": "code",
   "execution_count": 2,
   "metadata": {},
   "outputs": [
    {
     "name": "stdout",
     "output_type": "stream",
     "text": [
      "Namespace(config_file='data/zero_shot_deepsea/test_feats.random_6.config_file.tsv', dfeature_name_file='data/zero_shot_deepsea/dfeatures_ordered_list.txt', lockstep_sampling=False, model_space='long_and_dilation', ppo=True, resume=False, train_file='data/zero_shot_deepsea/train.h5', val_file='data/zero_shot_deepsea/val.h5', wd='outputs/new_20200919/test_feats/zs_amber/')\n"
     ]
    }
   ],
   "source": [
    "import sys\n",
    "arg_str = \"\"\"foo \n",
    "--train-file data/zero_shot_deepsea/train.h5 \n",
    "--val-file data/zero_shot_deepsea/val.h5 \n",
    "--model-space long_and_dilation \n",
    "--ppo\n",
    "--wd outputs/new_20200919/test_feats/zs_amber/\n",
    "--config-file data/zero_shot_deepsea/test_feats.random_6.config_file.tsv\n",
    "--dfeature-name-file data/zero_shot_deepsea/dfeatures_ordered_list.txt\n",
    "\"\"\"\n",
    "\n",
    "arg_list = arg_str.split()\n",
    "sys.argv = arg_list\n",
    "\n",
    "# fake arg parsing\n",
    "parser = argparse.ArgumentParser(description=\"experimental zero-shot nas\")\n",
    "parser.add_argument(\"--train-file\", type=str, required=True, help=\"Path to the hdf5 file of training data.\")\n",
    "parser.add_argument(\"--val-file\", type=str, required=True, help=\"Path to the hdf5 file of validation data.\")\n",
    "parser.add_argument(\"--model-space\", default=\"simple\", choices=['simple', 'long', 'long_and_dilation'], help=\"Model space choice\")\n",
    "parser.add_argument(\"--ppo\", default=False, action=\"store_true\", help=\"Use PPO instead of REINFORCE\")\n",
    "parser.add_argument(\"--wd\", type=str, default=\"./outputs/zero_shot/\", help=\"working dir\")\n",
    "parser.add_argument(\"--resume\", default=False, action=\"store_true\", help=\"resume previous run\")\n",
    "parser.add_argument(\"--config-file\", type=str, required=True, help=\"Path to the config file to use.\")\n",
    "parser.add_argument(\"--dfeature-name-file\", type=str, required=True, help=\"Path to file with dataset feature names listed one per line.\")\n",
    "parser.add_argument(\"--lockstep-sampling\", default=False, action=\"store_true\", help=\"Ensure same training samples used for all models.\")\n",
    "\n",
    "arg = parser.parse_args()\n",
    "print(arg)"
   ]
  },
  {
   "cell_type": "code",
   "execution_count": 3,
   "metadata": {},
   "outputs": [
    {
     "name": "stdout",
     "output_type": "stream",
     "text": [
      "{3: 0, 4: 1, 5: 2, 6: 0, 8: 2}\n"
     ]
    },
    {
     "name": "stderr",
     "output_type": "stream",
     "text": [
      "/mnt/home/zzhang/workspace/src/AMBER-ZeroShot/amber/architect/_general_controller.py:541: UserWarning: \n",
      "================================================================================\n",
      "Warning: the following tf.variables have no gradients and have been discarded: \n",
      " [<tf.Variable 'controller/create_weights/g_emb:0' shape=(1, 128) dtype=float32_ref>, <tf.Variable 'controller/create_weights/emb/layer_9/w_start:0' shape=(3, 128) dtype=float32_ref>]\n",
      "  optim_algo=self.optim_algo\n"
     ]
    }
   ],
   "source": [
    "configs, config_keys, controller, model_space = read_configs(arg, is_training=False)"
   ]
  },
  {
   "cell_type": "code",
   "execution_count": 4,
   "metadata": {},
   "outputs": [
    {
     "name": "stdout",
     "output_type": "stream",
     "text": [
      "<class 'dict'>\n"
     ]
    }
   ],
   "source": [
    "# get random 4 testing features\n",
    "test_feats = [\n",
    "    'FEAT480',  # \"YY1\"   \"H1-hESC\"\n",
    "    #'FEAT710',  # \"PU.1\"  \"K562\"\n",
    "    'FEAT282',  # \"DNase\" \"WI-38\"\n",
    "    #'FEAT515'   # \"GTF2F1\"        \"HeLa-S3\"\n",
    "]\n",
    "print(type(configs))\n",
    "configs = {k:configs[k] for k in configs if configs[k]['feat_name'] in test_feats}"
   ]
  },
  {
   "cell_type": "code",
   "execution_count": 5,
   "metadata": {},
   "outputs": [
    {
     "name": "stderr",
     "output_type": "stream",
     "text": [
      "/mnt/home/zzhang/workspace/programs/anaconda3/envs/amber-zh/lib/python3.7/site-packages/h5py/_hl/dataset.py:313: H5pyDeprecationWarning: dataset.value has been deprecated. Use dataset[()] instead.\n",
      "  \"Use dataset[()] instead.\", H5pyDeprecationWarning)\n"
     ]
    },
    {
     "name": "stdout",
     "output_type": "stream",
     "text": [
      "FEAT480\n",
      "[3 0 2 6 1 2 6 0 2 0]\n",
      "[array([[8.0534242e-12, 4.3316533e-09, 8.5733082e-10, 1.0000000e+00,\n",
      "        8.2404439e-12, 5.5461019e-10, 6.4222593e-11]], dtype=float32), array([[1.0000000e+00, 1.1177606e-13]], dtype=float32), array([[1.3930006e-13, 2.8718092e-13, 1.0000000e+00]], dtype=float32), array([[7.0824450e-14, 7.6637474e-11, 9.5581338e-12, 9.5180344e-09,\n",
      "        2.3586165e-13, 3.2427332e-11, 1.0000000e+00]], dtype=float32), array([[5.3825455e-10, 1.0000000e+00]], dtype=float32), array([[5.3258975e-14, 1.0959014e-12, 1.0000000e+00]], dtype=float32), array([[2.8883767e-17, 2.0327639e-15, 2.3332895e-14, 2.3591358e-15,\n",
      "        6.0238449e-17, 5.9949014e-14, 1.0000000e+00]], dtype=float32), array([[1.0000000e+00, 1.4743487e-18, 2.2894671e-16, 1.0035300e-17]],\n",
      "      dtype=float32), array([[7.282041e-14, 9.567595e-13, 1.000000e+00]], dtype=float32), array([[1.0000000e+00, 3.4371446e-17, 6.5259918e-16]], dtype=float32)]\n",
      "----------\n",
      "FEAT282\n",
      "[3 1 0 6 1 2 6 0 2 0]\n",
      "[array([[1.1649705e-13, 3.9679108e-13, 2.4231147e-11, 1.0000000e+00,\n",
      "        1.0381441e-13, 7.3895464e-12, 1.6675936e-14]], dtype=float32), array([[7.448973e-14, 1.000000e+00]], dtype=float32), array([[1.0000000e+00, 2.3192545e-11, 1.2575331e-09]], dtype=float32), array([[9.0230625e-14, 3.4627303e-12, 5.6099309e-12, 4.4941504e-16,\n",
      "        1.0530876e-13, 2.3549291e-14, 1.0000000e+00]], dtype=float32), array([[1.279775e-09, 1.000000e+00]], dtype=float32), array([[5.39548e-16, 3.32204e-18, 1.00000e+00]], dtype=float32), array([[2.8553657e-19, 2.7439511e-16, 3.1635843e-17, 5.0827912e-18,\n",
      "        1.9151901e-18, 2.4417964e-16, 1.0000000e+00]], dtype=float32), array([[1.0000000e+00, 2.7819968e-18, 6.9508814e-17, 1.3543482e-18]],\n",
      "      dtype=float32), array([[2.8635047e-14, 5.1601074e-14, 1.0000000e+00]], dtype=float32), array([[1.0000000e+00, 5.8292086e-17, 4.9088190e-16]], dtype=float32)]\n",
      "----------\n"
     ]
    }
   ],
   "source": [
    "controller.load_weights(\"outputs/new_20200919/long_and_dilation.ppo.0/controller_weights.h5\")\n",
    "for k in configs:\n",
    "    print(configs[k]['feat_name'])\n",
    "    a, p = controller.get_action(np.expand_dims(configs[k]['dfeatures'],0))\n",
    "    print(a); print(p)\n",
    "    print('-'*10)"
   ]
  },
  {
   "cell_type": "code",
   "execution_count": 6,
   "metadata": {},
   "outputs": [
    {
     "name": "stdout",
     "output_type": "stream",
     "text": [
      "----------\n",
      "FEAT480\n",
      "----------\n"
     ]
    },
    {
     "name": "stderr",
     "output_type": "stream",
     "text": [
      "[1096018][12:18:57] Preprocessing..  0.257 sec\n",
      "[1096018][12:18:57] Trial 0: Start training model..  543.330 sec\n",
      "[1096018] Postprocessing..WARNING: Logging before flag parsing goes to stderr.\n",
      "W0927 12:28:02.168078 46912496537280 font_manager.py:1282] findfont: Font family ['serif'] not found. Falling back to DejaVu Sans.\n",
      "  4.733 sec\n",
      "[1096018] Cleaning up..  0.266 sec\n",
      "[1096018][12:28:06] Preprocessing.."
     ]
    },
    {
     "name": "stdout",
     "output_type": "stream",
     "text": [
      "0.9315529989546129\n"
     ]
    },
    {
     "name": "stderr",
     "output_type": "stream",
     "text": [
      "  0.193 sec\n",
      "[1096018][12:28:06] Trial 1: Start training model..  368.911 sec\n",
      "[1096018] Postprocessing..  3.733 sec\n",
      "[1096018] Cleaning up..  0.280 sec\n",
      "[1096018][12:34:19] Preprocessing..  0.189 sec\n",
      "[1096018][12:34:19] Trial 2: Start training model.."
     ]
    },
    {
     "name": "stdout",
     "output_type": "stream",
     "text": [
      "0.8750490025263524\n"
     ]
    },
    {
     "name": "stderr",
     "output_type": "stream",
     "text": [
      "  450.815 sec\n",
      "[1096018] Postprocessing..  4.323 sec\n",
      "[1096018] Cleaning up..  0.288 sec\n",
      "[1096018][12:41:54] Preprocessing.."
     ]
    },
    {
     "name": "stdout",
     "output_type": "stream",
     "text": [
      "0.9129184271277987\n"
     ]
    },
    {
     "name": "stderr",
     "output_type": "stream",
     "text": [
      "  0.189 sec\n",
      "[1096018][12:41:55] Trial 3: Start training model..  410.508 sec\n",
      "[1096018] Postprocessing..  3.699 sec\n",
      "[1096018] Cleaning up..  0.286 sec\n",
      "[1096018][12:48:49] Preprocessing..  0.188 sec\n",
      "[1096018][12:48:49] Trial 4: Start training model.."
     ]
    },
    {
     "name": "stdout",
     "output_type": "stream",
     "text": [
      "0.891388622702326\n"
     ]
    },
    {
     "name": "stderr",
     "output_type": "stream",
     "text": [
      "  410.955 sec\n",
      "[1096018] Postprocessing..  4.284 sec\n",
      "[1096018] Cleaning up..  0.339 sec\n",
      "[1096018][12:55:45] Preprocessing.."
     ]
    },
    {
     "name": "stdout",
     "output_type": "stream",
     "text": [
      "0.8946840425995296\n"
     ]
    },
    {
     "name": "stderr",
     "output_type": "stream",
     "text": [
      "  0.190 sec\n",
      "[1096018][12:55:45] Trial 5: Start training model..  289.431 sec\n",
      "[1096018] Postprocessing..  3.578 sec\n",
      "[1096018] Cleaning up..  0.315 sec\n",
      "[1096018][13:00:38] Preprocessing..  0.188 sec\n",
      "[1096018][13:00:39] Trial 6: Start training model.."
     ]
    },
    {
     "name": "stdout",
     "output_type": "stream",
     "text": [
      "0.8546857304643263\n"
     ]
    },
    {
     "name": "stderr",
     "output_type": "stream",
     "text": [
      "  329.195 sec\n",
      "[1096018] Postprocessing..  3.783 sec\n",
      "[1096018] Cleaning up..  0.437 sec\n",
      "[1096018][13:06:12] Preprocessing.."
     ]
    },
    {
     "name": "stdout",
     "output_type": "stream",
     "text": [
      "0.8844942394807911\n"
     ]
    },
    {
     "name": "stderr",
     "output_type": "stream",
     "text": [
      "  0.189 sec\n",
      "[1096018][13:06:12] Trial 7: Start training model..  351.772 sec\n",
      "[1096018] Postprocessing..  3.746 sec\n",
      "[1096018] Cleaning up..  0.460 sec\n",
      "[1096018][13:12:08] Preprocessing.."
     ]
    },
    {
     "name": "stdout",
     "output_type": "stream",
     "text": [
      "0.8762454808781253\n"
     ]
    },
    {
     "name": "stderr",
     "output_type": "stream",
     "text": [
      "  0.202 sec\n",
      "[1096018][13:12:08] Trial 8: Start training model..  305.547 sec\n",
      "[1096018] Postprocessing..  3.729 sec\n",
      "[1096018] Cleaning up..  0.367 sec\n",
      "[1096018][13:17:18] Preprocessing..  0.188 sec\n",
      "[1096018][13:17:18] Trial 9: Start training model.."
     ]
    },
    {
     "name": "stdout",
     "output_type": "stream",
     "text": [
      "0.8912947011934838\n"
     ]
    },
    {
     "name": "stderr",
     "output_type": "stream",
     "text": [
      "  389.608 sec\n",
      "[1096018] Postprocessing..  3.683 sec\n",
      "[1096018] Cleaning up..  0.432 sec\n",
      "[1096018][13:23:52] Preprocessing.."
     ]
    },
    {
     "name": "stdout",
     "output_type": "stream",
     "text": [
      "0.9089859743880129\n",
      "----------\n",
      "FEAT282\n",
      "----------\n"
     ]
    },
    {
     "name": "stderr",
     "output_type": "stream",
     "text": [
      "  0.240 sec\n",
      "[1096018][13:23:52] Trial 0: Start training model..  444.024 sec\n",
      "[1096018] Postprocessing..  3.594 sec\n",
      "[1096018] Cleaning up..  0.526 sec\n",
      "[1096018][13:31:20] Preprocessing.."
     ]
    },
    {
     "name": "stdout",
     "output_type": "stream",
     "text": [
      "0.853675378797201\n"
     ]
    },
    {
     "name": "stderr",
     "output_type": "stream",
     "text": [
      "  0.196 sec\n",
      "[1096018][13:31:20] Trial 1: Start training model..  444.287 sec\n",
      "[1096018] Postprocessing..  4.292 sec\n",
      "[1096018] Cleaning up..  0.551 sec\n",
      "[1096018][13:38:50] Preprocessing.."
     ]
    },
    {
     "name": "stdout",
     "output_type": "stream",
     "text": [
      "0.8496507354449174\n"
     ]
    },
    {
     "name": "stderr",
     "output_type": "stream",
     "text": [
      "  0.200 sec\n",
      "[1096018][13:38:50] Trial 2: Start training model..  438.673 sec\n",
      "[1096018] Postprocessing..  3.711 sec\n",
      "[1096018] Cleaning up..  0.429 sec\n",
      "[1096018][13:46:13] Preprocessing.."
     ]
    },
    {
     "name": "stdout",
     "output_type": "stream",
     "text": [
      "0.8567129344785438\n"
     ]
    },
    {
     "name": "stderr",
     "output_type": "stream",
     "text": [
      "  0.190 sec\n",
      "[1096018][13:46:13] Trial 3: Start training model..  265.441 sec\n",
      "[1096018] Postprocessing..  3.877 sec\n",
      "[1096018] Cleaning up..  0.547 sec\n",
      "[1096018][13:50:43] Preprocessing.."
     ]
    },
    {
     "name": "stdout",
     "output_type": "stream",
     "text": [
      "0.7363563277795552\n"
     ]
    },
    {
     "name": "stderr",
     "output_type": "stream",
     "text": [
      "  0.190 sec\n",
      "[1096018][13:50:43] Trial 4: Start training model..  435.864 sec\n",
      "[1096018] Postprocessing..  3.626 sec\n",
      "[1096018] Cleaning up..  0.377 sec\n",
      "[1096018][13:58:03] Preprocessing.."
     ]
    },
    {
     "name": "stdout",
     "output_type": "stream",
     "text": [
      "0.8735104471734796\n"
     ]
    },
    {
     "name": "stderr",
     "output_type": "stream",
     "text": [
      "  0.189 sec\n",
      "[1096018][13:58:03] Trial 5: Start training model..  445.175 sec\n",
      "[1096018] Postprocessing..  4.180 sec\n",
      "[1096018] Cleaning up..  0.634 sec\n",
      "[1096018][14:05:33] Preprocessing.."
     ]
    },
    {
     "name": "stdout",
     "output_type": "stream",
     "text": [
      "0.8589647987268149\n"
     ]
    },
    {
     "name": "stderr",
     "output_type": "stream",
     "text": [
      "  0.192 sec\n",
      "[1096018][14:05:33] Trial 6: Start training model..  432.812 sec\n",
      "[1096018] Postprocessing..  4.046 sec\n",
      "[1096018] Cleaning up..  0.509 sec\n",
      "[1096018][14:12:51] Preprocessing.."
     ]
    },
    {
     "name": "stdout",
     "output_type": "stream",
     "text": [
      "0.8737573729070788\n"
     ]
    },
    {
     "name": "stderr",
     "output_type": "stream",
     "text": [
      "  0.195 sec\n",
      "[1096018][14:12:51] Trial 7: Start training model..  431.261 sec\n",
      "[1096018] Postprocessing..  3.793 sec\n",
      "[1096018] Cleaning up..  0.690 sec\n",
      "[1096018][14:20:07] Preprocessing.."
     ]
    },
    {
     "name": "stdout",
     "output_type": "stream",
     "text": [
      "0.8718162167039927\n"
     ]
    },
    {
     "name": "stderr",
     "output_type": "stream",
     "text": [
      "  0.194 sec\n",
      "[1096018][14:20:07] Trial 8: Start training model..  442.910 sec\n",
      "[1096018] Postprocessing..  3.839 sec\n",
      "[1096018] Cleaning up..  0.601 sec\n",
      "[1096018][14:27:34] Preprocessing.."
     ]
    },
    {
     "name": "stdout",
     "output_type": "stream",
     "text": [
      "0.8728504745732123\n"
     ]
    },
    {
     "name": "stderr",
     "output_type": "stream",
     "text": [
      "  0.192 sec\n",
      "[1096018][14:27:34] Trial 9: Start training model..  445.529 sec\n",
      "[1096018] Postprocessing..  3.853 sec\n",
      "[1096018] Cleaning up.."
     ]
    },
    {
     "name": "stdout",
     "output_type": "stream",
     "text": [
      "0.8755490200904027\n"
     ]
    },
    {
     "name": "stderr",
     "output_type": "stream",
     "text": [
      "  0.634 sec\n"
     ]
    },
    {
     "data": {
      "text/plain": [
       "<Figure size 900x900 with 0 Axes>"
      ]
     },
     "metadata": {},
     "output_type": "display_data"
    }
   ],
   "source": [
    "n_rep = 10\n",
    "# full data is 4.4m with pos+neg strands\n",
    "full_training_patience = 40\n",
    "zs_res = {}\n",
    "\n",
    "global_manager_trial_cnt = {k:0 for k in configs}\n",
    "global_manager_record = pd.DataFrame(columns=['manager', 'feat_name', 'amber', 'step', 'arc', 'reward'])\n",
    "\n",
    "for k in configs:\n",
    "    feat_name = configs[k]['feat_name']\n",
    "    print('-'*10); print(feat_name); print('-'*10)\n",
    "    res_list = []\n",
    "    manager = configs[k]['manager']\n",
    "    manager._earlystop_patience = full_training_patience\n",
    "    manager.verbose=0\n",
    "    for i in range(n_rep):\n",
    "        arc, prob = controller.get_action(np.expand_dims(configs[k]['dfeatures'],0))\n",
    "        reward, _ = manager.get_rewards(trial=global_manager_trial_cnt[k], model_arc=arc)\n",
    "        global_manager_trial_cnt[k] += 1\n",
    "        print(reward)\n",
    "        res_list.append(reward)\n",
    "        global_manager_record = global_manager_record.append({\n",
    "            'manager': k, \n",
    "            'feat_name': feat_name, \n",
    "            'amber': 'zs', \n",
    "            'step': i,\n",
    "            'arc': ','.join([str(a) for a in arc]),\n",
    "            'reward': reward\n",
    "        }, ignore_index=True)\n",
    "    zs_res[k] = res_list"
   ]
  },
  {
   "cell_type": "code",
   "execution_count": 7,
   "metadata": {},
   "outputs": [
    {
     "name": "stdout",
     "output_type": "stream",
     "text": [
      "{0: [0.9315529989546129, 0.8750490025263524, 0.9129184271277987, 0.891388622702326, 0.8946840425995296, 0.8546857304643263, 0.8844942394807911, 0.8762454808781253, 0.8912947011934838, 0.9089859743880129], 2: [0.853675378797201, 0.8496507354449174, 0.8567129344785438, 0.7363563277795552, 0.8735104471734796, 0.8589647987268149, 0.8737573729070788, 0.8718162167039927, 0.8728504745732123, 0.8755490200904027]}\n"
     ]
    }
   ],
   "source": [
    "print(zs_res)"
   ]
  },
  {
   "cell_type": "code",
   "execution_count": 8,
   "metadata": {},
   "outputs": [
    {
     "data": {
      "image/png": "[encoded data removed]",
      "text/plain": [
       "<Figure size 432x288 with 1 Axes>"
      ]
     },
     "metadata": {
      "needs_background": "light"
     },
     "output_type": "display_data"
    },
    {
     "data": {
      "image/png": "[encoded data removed]",
      "text/plain": [
       "<Figure size 432x288 with 1 Axes>"
      ]
     },
     "metadata": {
      "needs_background": "light"
     },
     "output_type": "display_data"
    }
   ],
   "source": [
    "import seaborn as sns\n",
    "import matplotlib.pyplot as plt\n",
    "\n",
    "for k in configs:\n",
    "    res_list = zs_res[k]\n",
    "    ax =sns.distplot(res_list)\n",
    "    ax.set_title(\"%s, avg=%.3f\"%(configs[k]['feat_name'], np.mean(res_list)))\n",
    "    plt.show()"
   ]
  },
  {
   "cell_type": "markdown",
   "metadata": {},
   "source": [
    "# Reload single-run AMBER and re-train for full epochs"
   ]
  },
  {
   "cell_type": "code",
   "execution_count": 145,
   "metadata": {},
   "outputs": [],
   "source": [
    "from datetime import datetime\n",
    "import os\n",
    "\n",
    "par_wd = \"/mnt/home/zzhang/workspace/src/AMBER-ZeroShot/examples/outputs/new_20200919/test_feats/single_run/\"\n",
    "sr_hist = {}\n",
    "for k in configs:\n",
    "    feat_name = configs[k]['feat_name']\n",
    "    wd = \"%s/%s/\" % (par_wd, feat_name)\n",
    "    train_hist = pd.read_table(os.path.join(wd,\"train_history.csv\"), header=None, sep=\",\")\n",
    "    train_hist.head()\n",
    "    # each controller step has 5 child networks sampled..\n",
    "    train_hist['step'] = train_hist[0]//5\n",
    "    train_hist['auc'] = train_hist[2]\n",
    "    dt = []\n",
    "    for i in range(train_hist.shape[0]):\n",
    "        child_model_fp = os.path.join(wd, \"weights\", \"trial_%i\"%train_hist.iloc[i][0])\n",
    "        timestamp = os.path.getmtime(child_model_fp)\n",
    "        timestamp = datetime.fromtimestamp(timestamp)\n",
    "        if i==0:\n",
    "            starttime = timestamp\n",
    "        dt.append(timestamp - starttime)\n",
    "\n",
    "    train_hist['ctime'] = dt\n",
    "    train_hist = train_hist.loc[train_hist['step']<=60]\n",
    "    sr_hist[k] = train_hist"
   ]
  },
  {
   "cell_type": "code",
   "execution_count": 146,
   "metadata": {},
   "outputs": [
    {
     "name": "stdout",
     "output_type": "stream",
     "text": [
      "[304   1 days 23:48:00.911253\n",
      "Name: ctime, dtype: timedelta64[ns], 304   2 days 04:19:56.292139\n",
      "Name: ctime, dtype: timedelta64[ns]]\n"
     ]
    }
   ],
   "source": [
    "delta_time = [sr_hist[k].ctime.tail(1) for k in configs]\n",
    "print(delta_time)\n",
    "#sns.distplot(delta_time)"
   ]
  },
  {
   "cell_type": "code",
   "execution_count": 147,
   "metadata": {},
   "outputs": [
    {
     "name": "stdout",
     "output_type": "stream",
     "text": [
      "[ 0  5 10 15 20 25 30 35 40 45 50 55]\n",
      "[ 0  5 10 15 20 25 30 35 40 45 50 55]\n"
     ]
    }
   ],
   "source": [
    "sampling_interval = 5\n",
    "do_retrain = False\n",
    "n_rep = 10\n",
    "\n",
    "sr_res = {}\n",
    "for k in configs:\n",
    "    np.random.seed(1223)\n",
    "    train_hist = sr_hist[k]\n",
    "    single_run_res = {}\n",
    "    step_time = {}\n",
    "    arc_seq_cols = np.arange(3, 13, dtype='int')\n",
    "    steps_to_retrain = np.arange(0, train_hist['step'].max(), sampling_interval)\n",
    "    #steps_to_retrain = np.concatenate([steps_to_retrain, [train_hist['step'].max()]])\n",
    "    print(steps_to_retrain)\n",
    "    for step in steps_to_retrain[1:]:\n",
    "        #arcs = train_hist.loc[train_hist['step'] == step]\n",
    "        step_idx = (train_hist['step']<=step) & (train_hist['step']>step-sampling_interval)\n",
    "        arcs = train_hist.loc[ step_idx ]\n",
    "        arcs = arcs[arc_seq_cols].to_numpy()\n",
    "        #orig_rewards = train_hist.loc[train_hist['step'] == step]['auc'].to_numpy()\n",
    "        orig_rewards = train_hist.loc[step_idx]['auc'].to_numpy()\n",
    "        orig_runtime = train_hist.loc[step_idx]['ctime'].to_numpy()\n",
    "        samp_idx = np.random.choice(arcs.shape[0], n_rep, replace=(n_rep>arcs.shape[0]))\n",
    "        arcs = arcs[samp_idx]\n",
    "        orig_rewards = orig_rewards[samp_idx]\n",
    "        orig_runtime = orig_runtime[samp_idx]\n",
    "\n",
    "        single_run_res[step] = []\n",
    "        step_time[step] = []\n",
    "        for i in range(n_rep):\n",
    "            if do_retrain:\n",
    "                reward, _ = manager.get_rewards(trial=global_manager_trial_cnt[k], model_arc=arcs.iloc[i])\n",
    "                print(reward)\n",
    "            else:\n",
    "                reward = orig_rewards[i]\n",
    "            global_manager_trial_cnt[k] += 1\n",
    "            single_run_res[step].append(reward)\n",
    "            step_time[step].append(orig_runtime[i])\n",
    "            global_manager_record = global_manager_record.append({\n",
    "                'manager': k, \n",
    "                'feat_name': feat_name, \n",
    "                'amber': 'sr', \n",
    "                'step': step,\n",
    "                'arc': ','.join([str(a) for a in arcs[i]]),\n",
    "                'reward': reward\n",
    "            }, ignore_index=True)\n",
    "\n",
    "    sr_df = pd.DataFrame([(k,v1, v2) for k in single_run_res for v1, v2 in zip(*[single_run_res[k], step_time[k]])], columns=['step', 'auc', 'time'])\n",
    "    sr_res[k] = sr_df"
   ]
  },
  {
   "cell_type": "markdown",
   "metadata": {},
   "source": [
    "## Merge with single-run AMBER"
   ]
  },
  {
   "cell_type": "code",
   "execution_count": 150,
   "metadata": {},
   "outputs": [
    {
     "data": {
      "image/png": "[encoded data removed]",
      "text/plain": [
       "<Figure size 432x432 with 2 Axes>"
      ]
     },
     "metadata": {
      "needs_background": "light"
     },
     "output_type": "display_data"
    },
    {
     "data": {
      "image/png": "[encoded data removed]",
      "text/plain": [
       "<Figure size 432x432 with 2 Axes>"
      ]
     },
     "metadata": {
      "needs_background": "light"
     },
     "output_type": "display_data"
    }
   ],
   "source": [
    "from zs_config import read_metadata\n",
    "\n",
    "meta = read_metadata()\n",
    "\n",
    "def convert_timedelta(duration):\n",
    "    days, seconds = duration.days, duration.seconds\n",
    "    hours = days * 24 + seconds // 3600\n",
    "    minutes = (seconds % 3600) // 60\n",
    "    seconds = (seconds % 60)\n",
    "    return hours, minutes, seconds\n",
    "\n",
    "for k in configs:\n",
    "    fig = plt.figure(figsize=(6,6))\n",
    "    ax = fig.add_subplot(111)\n",
    "    ax2 = ax.twiny()\n",
    "    feat_name = configs[k]['feat_name']\n",
    "    human_readable_name = meta.loc[feat_name]['new_name']\n",
    "    sr_df = sr_res[k]\n",
    "    zs_auc = zs_res[k]\n",
    "    ax.axhspan(np.mean(zs_auc)-2*np.std(zs_auc), np.mean(zs_auc)+2*np.std(zs_auc), alpha=0.2, color='pink')\n",
    "    ax.axhline(y=np.mean(zs_auc), color='red', label=\"AMBIENT\")\n",
    "    sns.lineplot(x='step', y='auc', marker='o', ci='sd', label=\"AMBER\", data=sr_df, ax=ax)\n",
    "    #ax.set_title(\"Manager%i:%s:%s\"%(k,feat_name, human_readable_name))\n",
    "    ax.set_title(\"%s\"%(human_readable_name))\n",
    "    ax.set_xlabel(\"AMBER step\")\n",
    "    ax.set_ylabel(\"AUROC\")\n",
    "\n",
    "    # add run-time as second x-axis\n",
    "    ax2.set_xlim(ax.get_xlim())\n",
    "    sr_auc_mean = sr_df.groupby(\"step\").mean()\n",
    "    new_tick_locations = [(sr_auc_mean-np.mean(zs_auc)>0).idxmax().tolist()[0], sr_df['step'].max()]\n",
    "    #print(new_tick_locations)\n",
    "    ax2.set_xticks(new_tick_locations)\n",
    "    ax2.set_xticklabels(sr_df.loc[new_tick_locations, \"time\"].apply(\n",
    "        lambda x: \"%shours\"%convert_timedelta(x)[0]))\n",
    "    ax2.set_xlabel(\"GPU runtime\")\n",
    "    ax2.axvline(x=new_tick_locations[0], linestyle='--', color='green')\n",
    "    \n",
    "    plt.savefig(\"./outputs/new_20200919/ZS_SR_comparison.%s.pdf\"%human_readable_name)    \n",
    "    plt.show()"
   ]
  },
  {
   "cell_type": "code",
   "execution_count": 151,
   "metadata": {},
   "outputs": [],
   "source": [
    "global_manager_record.to_csv(\"outputs/new_20200919/ZS_SR_comparison.tsv\", sep=\"\\t\")"
   ]
  },
  {
   "cell_type": "code",
   "execution_count": null,
   "metadata": {},
   "outputs": [],
   "source": []
  }
 ],
 "metadata": {
  "kernelspec": {
   "display_name": "Python 3",
   "language": "python",
   "name": "python3"
  },
  "language_info": {
   "codemirror_mode": {
    "name": "ipython",
    "version": 3
   },
   "file_extension": ".py",
   "mimetype": "text/x-python",
   "name": "python",
   "nbconvert_exporter": "python",
   "pygments_lexer": "ipython3",
   "version": "3.7.4"
  }
 },
 "nbformat": 4,
 "nbformat_minor": 2
}
